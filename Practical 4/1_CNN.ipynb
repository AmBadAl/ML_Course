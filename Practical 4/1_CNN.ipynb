{
  "cells": [
    {
      "cell_type": "markdown",
      "metadata": {
        "id": "MBUU987BuDOZ"
      },
      "source": [
        "<img src='http://www-scf.usc.edu/~ghasemig/images/sharif.png' alt=\"SUT logo\" width=200 height=200 align=left class=\"saturate\" >\n",
        "\n",
        "<br>\n",
        "<font face=\"Times New Roman\">\n",
        "<div dir=ltr align=center>\n",
        "<font color=0F5298 size=7>\n",
        "    Introduction to Machine Learning <br>\n",
        "<font color=2565AE size=5>\n",
        "    Computer Engineering Department <br>\n",
        "    Fall 2022<br>\n",
        "<font color=3C99D size=5>\n",
        "    Homework 4: Practical - Convolutional Neural Networks <br>\n",
        "<font color=696880 size=4>\n",
        "    Arian Amani\n",
        "    \n",
        "    \n",
        "____\n"
      ]
    },
    {
      "cell_type": "markdown",
      "metadata": {
        "id": "LQR0kCKWuDO1"
      },
      "source": [
        "### Full Name : Amirreza Bagheri Delouee\n",
        "### Student Number : 98109804\n",
        "___"
      ]
    },
    {
      "cell_type": "markdown",
      "metadata": {
        "id": "02mTaPiruDO5"
      },
      "source": [
        "# Problem\n",
        "This assignment uses PyTorch to build and implement a residual CNN for solving a classification problem. Our goal is to classify handwritten digits from 0 to 9 on the MNIST dataset. You can try larger and more fun datasets if you have access to Google Colab. (for example: [facial emotion detection](https://www.kaggle.com/datasets/msambare/fer2013))\n",
        "\n",
        "* It is highly recommended to run this notebook on Google Colab so that you can utilize its GPU.\n",
        "* If you need to change the inputs of functions you are implementing, or want to add new cells or functions, feel free to do so."
      ]
    },
    {
      "cell_type": "markdown",
      "metadata": {
        "id": "W0bGV8AXO3Yx"
      },
      "source": [
        "# Setup"
      ]
    },
    {
      "cell_type": "code",
      "execution_count": 36,
      "metadata": {
        "id": "CdrZr6HWO2p8"
      },
      "outputs": [],
      "source": [
        "import torch\n",
        "from torch import nn\n",
        "from torch.nn import functional as F\n",
        "from torch.utils.data import Dataset, DataLoader, random_split\n",
        "from torchvision import transforms, datasets\n",
        "\n",
        "from tqdm import tqdm\n",
        "import numpy as np\n",
        "import pandas as pd\n",
        "import matplotlib.pyplot as plt\n",
        "\n",
        "plt.style.use('ggplot')\n",
        "###########################################################\n",
        "##  If you need any other packages, import them below    ##\n",
        "###########################################################\n",
        "from sklearn.metrics import ConfusionMatrixDisplay\n",
        "import seaborn as sns"
      ]
    },
    {
      "cell_type": "code",
      "execution_count": 20,
      "metadata": {
        "colab": {
          "base_uri": "https://localhost:8080/"
        },
        "id": "6Cl3bLc2uDPN",
        "outputId": "fe4c21ed-1373-4ab4-a434-3480b6019451"
      },
      "outputs": [
        {
          "output_type": "execute_result",
          "data": {
            "text/plain": [
              "device(type='cuda')"
            ]
          },
          "metadata": {},
          "execution_count": 20
        }
      ],
      "source": [
        "device = torch.device('cuda' if torch.cuda.is_available() else 'cpu')\n",
        "device"
      ]
    },
    {
      "cell_type": "markdown",
      "metadata": {
        "id": "gzydGC2SNuAu"
      },
      "source": [
        "# Prepare The Data (10 Points)"
      ]
    },
    {
      "cell_type": "markdown",
      "metadata": {
        "id": "dQpmGg88uDPY"
      },
      "source": [
        "Write a composed transformation to transform our dataset's PIL images to tensors and normalize them with ```mean: 0.1307``` and ```std: 0.3081```: "
      ]
    },
    {
      "cell_type": "markdown",
      "metadata": {
        "id": "t4xpMxXtuDPd"
      },
      "source": [
        "<details>\n",
        "<summary>Hint</summary>\n",
        "<br>\n",
        "<a href=\"https://pytorch.org/vision/stable/generated/torchvision.transforms.Compose.html\">torchvision.transforms.Compose</a>\n",
        "</details>"
      ]
    },
    {
      "cell_type": "code",
      "execution_count": 21,
      "metadata": {
        "id": "geM_kuaCuDPg"
      },
      "outputs": [],
      "source": [
        "###############################################################\n",
        "##                Compose your transformations               ##\n",
        "###############################################################\n",
        "transformation = transforms.Compose([\n",
        "    transforms.ToTensor(),\n",
        "    transforms.Normalize(mean=0.1307, std=0.3081)\n",
        "]) # Write your code here"
      ]
    },
    {
      "cell_type": "markdown",
      "metadata": {
        "id": "ANdYnd04N0ze"
      },
      "source": [
        "Split the downloaded MNIST dataset into two dataloaders ```train``` & ```val```"
      ]
    },
    {
      "cell_type": "code",
      "execution_count": 22,
      "metadata": {
        "colab": {
          "base_uri": "https://localhost:8080/"
        },
        "id": "6GaROP5-uDPl",
        "outputId": "2a1b25d8-be4e-4768-c388-e0d9b83ae1c1"
      },
      "outputs": [
        {
          "output_type": "stream",
          "name": "stdout",
          "text": [
            "60000\n"
          ]
        }
      ],
      "source": [
        "# Download the MNIST dataset\n",
        "mnist_data = datasets.MNIST(root='data/', download=True, transform=transformation)\n",
        "\n",
        "# Number of images in the dataset: 60,000\n",
        "print(len(mnist_data))\n",
        "\n",
        "# Split the dataset into training and validation sets\n",
        "train_data, valid_data = random_split(mnist_data, [50000, 10000]) "
      ]
    },
    {
      "cell_type": "markdown",
      "metadata": {
        "id": "DS9UrN0XuDPq"
      },
      "source": [
        "Create dataloaders for your train and validation data with ```batch size 16``` and ```shuffle = True``` for train loader."
      ]
    },
    {
      "cell_type": "markdown",
      "metadata": {
        "id": "N1euRsiiuDPs"
      },
      "source": [
        "<details>\n",
        "<summary>Hint</summary>\n",
        "<br>\n",
        "<a href=\"https://pytorch.org/tutorials/beginner/basics/data_tutorial.html\">DATASETS & DATALOADERS</a>\n",
        "</details>"
      ]
    },
    {
      "cell_type": "code",
      "execution_count": 23,
      "metadata": {
        "id": "4CEUTGaFQI51"
      },
      "outputs": [],
      "source": [
        "###############################################################\n",
        "##           Load the datasets into train/valid              ##\n",
        "##                       dataloaders                         ##\n",
        "###############################################################\n",
        "train_loader = DataLoader(train_data, batch_size=16, shuffle=True) # Write your code here\n",
        "val_loader = DataLoader(valid_data, batch_size=16, shuffle=False) # Write your code here"
      ]
    },
    {
      "cell_type": "markdown",
      "metadata": {
        "id": "HF_40_3rQ5Uv"
      },
      "source": [
        "# Define Model (40 Points)"
      ]
    },
    {
      "cell_type": "markdown",
      "metadata": {
        "id": "Nu-_soEruDPz"
      },
      "source": [
        "### You need to implement a model with the architecture below:\n",
        "[Input: (BS, 1, 28, 28)] -- > [Conv2D (BS, 16, 28, 28)] --> ReLU --> [MaxPool2D (BS, 16, 14, 14): Residual1]\n",
        "\n",
        "--> [Conv2D (BS, 16, 14, 14)] --> ReLU --> [Conv2D (BS, 16, 14, 14)] --> ReLU --> [Addition with Residual1]\n",
        "\n",
        "--> [MaxPool2D (BS, 16, 7, 7)] --> [Conv2D (BS, 64, 7, 7)] --> [ReLU: Residual2]\n",
        "\n",
        "--> [Conv2D (BS, 64, 7, 7)] --> ReLU --> [Conv2D (BS, 64, 7, 7)] --> ReLU --> [Addition with Residual2]\n",
        "\n",
        "--> [GlobalAveragePooling (BS, 64, 1, 1)] --> [Flatten (BS, 64)] --> [Linear (BS, 10)] --> ReLU --> OUT\n",
        "\n",
        "Here you can see the drawn schematic of the architecture, too: [Link](https://drive.google.com/file/d/1gQzafyxTkuvQr8T-xUncLmedX94LnY_l/view?usp=share_link)"
      ]
    },
    {
      "cell_type": "markdown",
      "metadata": {
        "id": "I4bKGGe7uDP0"
      },
      "source": [
        "<details>\n",
        "<summary>Hint</summary>\n",
        "<br>\n",
        "These might be helpful:\n",
        "<br>\n",
        "<a href=\"https://pytorch.org/docs/stable/generated/torch.clone.html\">TORCH.CLONE</a>\n",
        "<br><br>\n",
        "<a href=\"https://pytorch.org/docs/master/generated/torch.nn.AdaptiveAvgPool2d.html#torch.nn.AdaptiveAvgPool2d\">AdaptiveAvgPool2d</a> with output size (1, 1) for global average pooling\n",
        "<br><br>\n",
        "<a href=\"https://arxiv.org/pdf/1512.03385.pdf\">Deep Residual Learning for Image Recognition</a>\n",
        "</details>"
      ]
    },
    {
      "cell_type": "code",
      "execution_count": 26,
      "metadata": {
        "id": "jQfGVj2rQ90G"
      },
      "outputs": [],
      "source": [
        "#####################################\n",
        "##        Define your model        ##\n",
        "##            Your Code            ##\n",
        "#####################################\n",
        "class ResidualClassifier(nn.Module):\n",
        "    def __init__(self, in_channels):\n",
        "        super(ResidualClassifier, self).__init__()\n",
        "        self.conv1 = nn.Sequential(\n",
        "            nn.Conv2d(in_channels, 16, kernel_size=3, padding=1),\n",
        "            nn.ReLU(),\n",
        "            nn.MaxPool2d(2)\n",
        "        )\n",
        "        self.conv2 = nn.Sequential(\n",
        "            nn.Conv2d(16, 16, kernel_size=3, padding=1),\n",
        "            nn.ReLU(),\n",
        "            nn.Conv2d(16, 16, kernel_size=3, padding=1),\n",
        "            nn.ReLU()\n",
        "        )\n",
        "        self.conv3 = nn.Sequential(\n",
        "            nn.MaxPool2d(2),\n",
        "            nn.Conv2d(16, 64, kernel_size=3, padding=1),\n",
        "            nn.ReLU()\n",
        "        )\n",
        "        self.conv4 = nn.Sequential(\n",
        "            nn.Conv2d(64, 64, kernel_size=3, padding=1),\n",
        "            nn.ReLU(),\n",
        "            nn.Conv2d(64, 64, kernel_size=3, padding=1),\n",
        "            nn.ReLU()\n",
        "        )\n",
        "        self.conv5 = nn.Sequential(\n",
        "            nn.AdaptiveAvgPool2d(1),\n",
        "            nn.Flatten(),\n",
        "            nn.Linear(64, 10)\n",
        "            #nn.ReLU()\n",
        "        )\n",
        "        pass # Write your code here\n",
        "\n",
        "    def forward(self, x):\n",
        "        x = self.conv1(x)\n",
        "        res1 = x\n",
        "        x = self.conv2(x)\n",
        "        x = res1+x\n",
        "        x = self.conv3(x)\n",
        "        res2 = x\n",
        "        x = self.conv4(x)\n",
        "        x = res2+x\n",
        "        x = self.conv5(x)\n",
        "        y = F.softmax(x)\n",
        "        return y\n",
        "        pass # Write your code here"
      ]
    },
    {
      "cell_type": "markdown",
      "metadata": {
        "id": "1jZeKXV9Rbq3"
      },
      "source": [
        "# Train Model (30 Points)"
      ]
    },
    {
      "cell_type": "code",
      "source": [
        "def update_confusion_matrix(conf_matrix, preds, reals):\n",
        "    for i in range(len(reals)):\n",
        "        conf_matrix[reals[i]][preds[i]] += 1\n",
        "    return conf_matrix\n",
        "\n",
        "\n",
        "def f1_score(confusion_matrix):\n",
        "    TP = np.diag(confusion_matrix)\n",
        "    FN = np.sum(confusion_matrix, axis=1) - TP\n",
        "    FP = np.sum(confusion_matrix, axis=0) - TP\n",
        "    f1_score = np.mean(TP/(TP + 1/2 * (FP+FN)))\n",
        "    \n",
        "    return f1_score"
      ],
      "metadata": {
        "id": "1e07S4j1gtfa"
      },
      "execution_count": 27,
      "outputs": []
    },
    {
      "cell_type": "code",
      "source": [
        "def test(model, loader, f_loss, device, num_classes):\n",
        "    with torch.no_grad():\n",
        "        model.eval()\n",
        "        N = 0\n",
        "        total_loss, correct = 0.0, 0.0\n",
        "        confusion_matrix = np.zeros((num_classes, num_classes))\n",
        "        for i, (inputs, targets) in enumerate(loader):\n",
        "            inputs, targets = inputs.to(device), targets.to(device)\n",
        "            inputs = inputs.to(torch.float32)\n",
        "\n",
        "            outputs = model(inputs)\n",
        "\n",
        "            N += inputs.shape[0]\n",
        "\n",
        "            total_loss += inputs.shape[0] * f_loss(outputs, targets).item()\n",
        "\n",
        "            predicted_targets = outputs.argmax(dim=1)\n",
        "            correct += (predicted_targets == targets).sum().item()\n",
        "\n",
        "            update_confusion_matrix(conf_matrix=confusion_matrix, \n",
        "                                    preds=predicted_targets, \n",
        "                                    reals=targets)\n",
        "            f1 = f1_score(confusion_matrix)\n",
        "        return total_loss/N, correct/N, f1, confusion_matrix"
      ],
      "metadata": {
        "id": "AEhTzBYwi92d"
      },
      "execution_count": 28,
      "outputs": []
    },
    {
      "cell_type": "code",
      "execution_count": 29,
      "metadata": {
        "id": "koMk0TkKRazn"
      },
      "outputs": [],
      "source": [
        "######################################################################\n",
        "##        Instantiate model, define hyper parameters, optimizer,    ##\n",
        "##        loss function and etc                                     ##\n",
        "######################################################################\n",
        "model = ResidualClassifier(1).to(device)\n",
        "criterion = nn.CrossEntropyLoss() # Write your code here\n",
        "optimizer = torch.optim.Adam(model.parameters()) # Write your code here"
      ]
    },
    {
      "cell_type": "code",
      "execution_count": 30,
      "metadata": {
        "id": "SFSROSJyuDP_",
        "colab": {
          "base_uri": "https://localhost:8080/"
        },
        "outputId": "0c9fe590-a5c4-4826-80d1-98f2da4a1ba3"
      },
      "outputs": [
        {
          "output_type": "stream",
          "name": "stdout",
          "text": [
            "Epoch 0\n"
          ]
        },
        {
          "output_type": "stream",
          "name": "stderr",
          "text": [
            "<ipython-input-26-760aa5e5996e>:48: UserWarning: Implicit dimension choice for softmax has been deprecated. Change the call to include dim=X as an argument.\n",
            "  y = F.softmax(x)\n",
            "<ipython-input-27-57c8fb5576bb>:11: RuntimeWarning: invalid value encountered in true_divide\n",
            "  f1_score = np.mean(TP/(TP + 1/2 * (FP+FN)))\n"
          ]
        },
        {
          "output_type": "stream",
          "name": "stdout",
          "text": [
            " Training : Loss : 1.5243, Acc : 0.9371, F1 : 0.9373\n",
            " Validation : Loss : 1.5253, Acc : 0.9365, F1: 0.9367\n",
            "Epoch 1\n",
            " Training : Loss : 1.4995, Acc : 0.9618, F1 : 0.9614\n",
            " Validation : Loss : 1.4993, Acc : 0.9627, F1: 0.9624\n",
            "Epoch 2\n",
            " Training : Loss : 1.4877, Acc : 0.9735, F1 : 0.9733\n",
            " Validation : Loss : 1.4873, Acc : 0.9741, F1: 0.9739\n",
            "Epoch 3\n",
            " Training : Loss : 1.4955, Acc : 0.9658, F1 : 0.9659\n",
            " Validation : Loss : 1.4970, Acc : 0.9639, F1: 0.9638\n",
            "Epoch 4\n",
            " Training : Loss : 1.4913, Acc : 0.9697, F1 : 0.9694\n",
            " Validation : Loss : 1.4931, Acc : 0.9679, F1: 0.9677\n",
            "Epoch 5\n",
            " Training : Loss : 1.4800, Acc : 0.9810, F1 : 0.9810\n",
            " Validation : Loss : 1.4805, Acc : 0.9807, F1: 0.9806\n",
            "Epoch 6\n",
            " Training : Loss : 1.4917, Acc : 0.9694, F1 : 0.9692\n",
            " Validation : Loss : 1.4898, Acc : 0.9715, F1: 0.9714\n",
            "Epoch 7\n",
            " Training : Loss : 1.4827, Acc : 0.9784, F1 : 0.9782\n",
            " Validation : Loss : 1.4843, Acc : 0.9765, F1: 0.9763\n",
            "Epoch 8\n",
            " Training : Loss : 1.4846, Acc : 0.9766, F1 : 0.9764\n",
            " Validation : Loss : 1.4859, Acc : 0.9751, F1: 0.9750\n",
            "Epoch 9\n",
            " Training : Loss : 1.4821, Acc : 0.9790, F1 : 0.9789\n",
            " Validation : Loss : 1.4811, Acc : 0.9801, F1: 0.9799\n",
            "Epoch 10\n",
            " Training : Loss : 1.4820, Acc : 0.9791, F1 : 0.9791\n",
            " Validation : Loss : 1.4839, Acc : 0.9771, F1: 0.9770\n",
            "Epoch 11\n",
            " Training : Loss : 1.4863, Acc : 0.9748, F1 : 0.9746\n",
            " Validation : Loss : 1.4874, Acc : 0.9737, F1: 0.9734\n",
            "Epoch 12\n",
            " Training : Loss : 1.4775, Acc : 0.9836, F1 : 0.9836\n",
            " Validation : Loss : 1.4779, Acc : 0.9831, F1: 0.9831\n",
            "Epoch 13\n",
            " Training : Loss : 1.4775, Acc : 0.9836, F1 : 0.9835\n",
            " Validation : Loss : 1.4764, Acc : 0.9847, F1: 0.9846\n",
            "Epoch 14\n",
            " Training : Loss : 1.5016, Acc : 0.9595, F1 : 0.9604\n",
            " Validation : Loss : 1.5028, Acc : 0.9583, F1: 0.9593\n",
            "Epoch 15\n",
            " Training : Loss : 1.4890, Acc : 0.9721, F1 : 0.9722\n",
            " Validation : Loss : 1.4904, Acc : 0.9708, F1: 0.9708\n",
            "Epoch 16\n",
            " Training : Loss : 1.4953, Acc : 0.9658, F1 : 0.9655\n",
            " Validation : Loss : 1.4971, Acc : 0.9641, F1: 0.9638\n",
            "Epoch 17\n",
            " Training : Loss : 1.4872, Acc : 0.9739, F1 : 0.9735\n",
            " Validation : Loss : 1.4882, Acc : 0.9728, F1: 0.9725\n",
            "Epoch 18\n",
            " Training : Loss : 1.4802, Acc : 0.9809, F1 : 0.9809\n",
            " Validation : Loss : 1.4840, Acc : 0.9772, F1: 0.9771\n",
            "Epoch 19\n",
            " Training : Loss : 1.4811, Acc : 0.9801, F1 : 0.9800\n",
            " Validation : Loss : 1.4824, Acc : 0.9788, F1: 0.9787\n"
          ]
        }
      ],
      "source": [
        "######################################################################\n",
        "##        Train your model (Complete the code below)                ##\n",
        "######################################################################\n",
        "total_step = len(train_loader)\n",
        "num_epochs = 20\n",
        "\n",
        "val_losses = []\n",
        "val_accs = []\n",
        "val_f1s = []\n",
        "train_losses = []\n",
        "train_accs = []\n",
        "train_f1s = []\n",
        "\n",
        "best_model = None\n",
        "best_f1 = 0\n",
        "\n",
        "num_classes = 10\n",
        "\n",
        "for epoch in range(num_epochs):\n",
        "    print(\"Epoch {}\".format(epoch))\n",
        "    model.train()\n",
        "    for images, labels in train_loader: \n",
        "        # Write your code here\n",
        "        images, labels = images.to(device), labels.to(device)\n",
        "\n",
        "        images = images.to(torch.float32)\n",
        "        outputs = model(images)\n",
        "        loss = criterion(outputs, labels)\n",
        "\n",
        "        optimizer.zero_grad()\n",
        "        loss.backward()\n",
        "        optimizer.step()\n",
        "\n",
        "    with torch.no_grad():\n",
        "        # Write your code here\n",
        "        val_loss, val_acc, val_f1, _ = test(model, val_loader, criterion, device, num_classes)\n",
        "        train_loss, train_acc, train_f1, _ = test(model, train_loader, criterion, device, num_classes)\n",
        "        \n",
        "        val_losses.append(val_loss)\n",
        "        val_accs.append(val_acc)\n",
        "        val_f1s.append(val_f1)\n",
        "        train_losses.append(train_loss)\n",
        "        train_accs.append(train_acc)\n",
        "        train_f1s.append(train_f1)\n",
        "\n",
        "        if (val_f1 > best_f1):\n",
        "            best_model = model\n",
        "            best_f1 = val_f1\n",
        "    \n",
        "        print(\" Training : Loss : {:.4f}, Acc : {:.4f}, F1 : {:.4f}\".format(train_loss, train_acc, train_f1))\n",
        "        print(\" Validation : Loss : {:.4f}, Acc : {:.4f}, F1: {:.4f}\".format(val_loss, val_acc, val_f1))"
      ]
    },
    {
      "cell_type": "code",
      "execution_count": 31,
      "metadata": {
        "id": "_YSWvcEGSVor",
        "colab": {
          "base_uri": "https://localhost:8080/",
          "height": 299
        },
        "outputId": "dea35df4-a06d-41c6-c4b4-92e14039bc8a"
      },
      "outputs": [
        {
          "output_type": "display_data",
          "data": {
            "text/plain": [
              "<Figure size 432x288 with 1 Axes>"
            ],
            "image/png": "[encoded data removed]"
          },
          "metadata": {}
        }
      ],
      "source": [
        "##############################################################\n",
        "##          Plot metrics graph for different epochs         ##\n",
        "##                        Your Code                         ##\n",
        "##############################################################\n",
        "plt.plot(train_losses, label=\"Train Loss\")\n",
        "plt.plot(val_losses, label=\"Validation Loss\")\n",
        "plt.title(\"Loss vs. Epochs\")\n",
        "plt.xlabel(\"Epochs\")\n",
        "plt.ylabel(\"Loss\")\n",
        "plt.legend()\n",
        "plt.show()"
      ]
    },
    {
      "cell_type": "code",
      "source": [
        "plt.plot(train_accs, label='Train Accuracy')\n",
        "plt.plot(val_accs, label='Validation Accuracy')\n",
        "plt.title(\"Accuracy vs. Epochs\")\n",
        "plt.xlabel(\"Epochs\")\n",
        "plt.ylabel(\"Accuracy\")\n",
        "plt.legend()\n",
        "plt.show()"
      ],
      "metadata": {
        "colab": {
          "base_uri": "https://localhost:8080/",
          "height": 299
        },
        "id": "vzYw5qxlqbzQ",
        "outputId": "414eeec7-3901-4c88-9561-8e0a65cc9e31"
      },
      "execution_count": 32,
      "outputs": [
        {
          "output_type": "display_data",
          "data": {
            "text/plain": [
              "<Figure size 432x288 with 1 Axes>"
            ],
            "image/png": "[encoded data removed]"
          },
          "metadata": {}
        }
      ]
    },
    {
      "cell_type": "code",
      "source": [
        "plt.plot(train_f1s, label='Train F1 Score')\n",
        "plt.plot(val_f1s, label='Validation F1 Score')\n",
        "plt.title(\"F1 Score vs. Epochs\")\n",
        "plt.xlabel(\"Epochs\")\n",
        "plt.ylabel(\"F1 Score\")\n",
        "plt.legend()\n",
        "plt.show()"
      ],
      "metadata": {
        "colab": {
          "base_uri": "https://localhost:8080/",
          "height": 299
        },
        "id": "RHyQsVsdqffw",
        "outputId": "1edd73ba-3d4a-4cd4-ca1a-29971e15a919"
      },
      "execution_count": 33,
      "outputs": [
        {
          "output_type": "display_data",
          "data": {
            "text/plain": [
              "<Figure size 432x288 with 1 Axes>"
            ],
            "image/png": "[encoded data removed]"
          },
          "metadata": {}
        }
      ]
    },
    {
      "cell_type": "markdown",
      "metadata": {
        "id": "LzhCrIFkSE1D"
      },
      "source": [
        "# Test Model (20 Points)"
      ]
    },
    {
      "cell_type": "code",
      "execution_count": 34,
      "metadata": {
        "id": "ihixveNISFwE",
        "colab": {
          "base_uri": "https://localhost:8080/"
        },
        "outputId": "5ff6cd14-5466-43be-fcd7-88bef906b399"
      },
      "outputs": [
        {
          "output_type": "stream",
          "name": "stdout",
          "text": [
            "10000\n"
          ]
        },
        {
          "output_type": "stream",
          "name": "stderr",
          "text": [
            "<ipython-input-26-760aa5e5996e>:48: UserWarning: Implicit dimension choice for softmax has been deprecated. Change the call to include dim=X as an argument.\n",
            "  y = F.softmax(x)\n"
          ]
        },
        {
          "output_type": "stream",
          "name": "stdout",
          "text": [
            " Test : Loss : 1.4794, Acc : 0.9817, F1: 0.9817\n"
          ]
        }
      ],
      "source": [
        "##################################################\n",
        "##          Test your model on test-set         ##\n",
        "##          and plot confusion matrix           ##\n",
        "##################################################\n",
        "\n",
        "test_data = datasets.MNIST(root='data/', download=True, transform=transformation, train=False)\n",
        "test_loader = DataLoader(test_data, batch_size=64, shuffle=False)\n",
        "print(len(test_data))\n",
        "\n",
        "with torch.no_grad():\n",
        "    # Write your code here\n",
        "    test_loss, test_acc, test_f1, confusion_matrix = test(best_model, test_loader, criterion, device, num_classes)\n",
        "    print(\" Test : Loss : {:.4f}, Acc : {:.4f}, F1: {:.4f}\".format(test_loss, test_acc, test_f1))"
      ]
    },
    {
      "cell_type": "code",
      "source": [
        "conf_disp = ConfusionMatrixDisplay(confusion_matrix=confusion_matrix, )\n",
        "conf_disp.plot()\n",
        "plt.show()"
      ],
      "metadata": {
        "colab": {
          "base_uri": "https://localhost:8080/",
          "height": 282
        },
        "id": "6jRAAev8qo67",
        "outputId": "aa62209a-23cb-4119-db8d-96064c0ec83c"
      },
      "execution_count": 35,
      "outputs": [
        {
          "output_type": "display_data",
          "data": {
            "text/plain": [
              "<Figure size 432x288 with 2 Axes>"
            ],
            "image/png": "[encoded data removed]"
          },
          "metadata": {}
        }
      ]
    }
  ],
  "metadata": {
    "colab": {
      "provenance": []
    },
    "kernelspec": {
      "display_name": "Python 3",
      "language": "python",
      "name": "python3"
    },
    "language_info": {
      "codemirror_mode": {
        "name": "ipython",
        "version": 3
      },
      "file_extension": ".py",
      "mimetype": "text/x-python",
      "name": "python",
      "nbconvert_exporter": "python",
      "pygments_lexer": "ipython3",
      "version": "3.10.2 (tags/v3.10.2:a58ebcc, Jan 17 2022, 14:12:15) [MSC v.1929 64 bit (AMD64)]"
    },
    "varInspector": {
      "cols": {
        "lenName": 16,
        "lenType": 16,
        "lenVar": 40
      },
      "kernels_config": {
        "python": {
          "delete_cmd_postfix": "",
          "delete_cmd_prefix": "del ",
          "library": "var_list.py",
          "varRefreshCmd": "print(var_dic_list())"
        },
        "r": {
          "delete_cmd_postfix": ") ",
          "delete_cmd_prefix": "rm(",
          "library": "var_list.r",
          "varRefreshCmd": "cat(var_dic_list()) "
        }
      },
      "types_to_exclude": [
        "module",
        "function",
        "builtin_function_or_method",
        "instance",
        "_Feature"
      ],
      "window_display": false
    },
    "vscode": {
      "interpreter": {
        "hash": "737c959b7de13ca6de61c14329204bbb39ba036435861a41dd181d542af43690"
      }
    },
    "accelerator": "GPU",
    "gpuClass": "standard"
  },
  "nbformat": 4,
  "nbformat_minor": 0
}